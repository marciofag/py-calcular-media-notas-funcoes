{
  "nbformat": 4,
  "nbformat_minor": 0,
  "metadata": {
    "colab": {
      "provenance": [],
      "authorship_tag": "ABX9TyN1bf+8dSidkdpBjVsyExyX",
      "include_colab_link": true
    },
    "kernelspec": {
      "name": "python3",
      "display_name": "Python 3"
    },
    "language_info": {
      "name": "python"
    }
  },
  "cells": [
    {
      "cell_type": "markdown",
      "metadata": {
        "id": "view-in-github",
        "colab_type": "text"
      },
      "source": [
        "<a href=\"https://colab.research.google.com/github/marciofag/py-calcular-media-notas-funcoes/blob/main/py_calcular_media_notas_funcoes.ipynb\" target=\"_parent\"><img src=\"https://colab.research.google.com/assets/colab-badge.svg\" alt=\"Open In Colab\"/></a>"
      ]
    },
    {
      "cell_type": "code",
      "execution_count": 1,
      "metadata": {
        "colab": {
          "base_uri": "https://localhost:8080/"
        },
        "id": "YDCisqe51WSC",
        "outputId": "31fec0dd-5294-4b38-d090-02d1a4eac922"
      },
      "outputs": [
        {
          "output_type": "stream",
          "name": "stdout",
          "text": [
            "Sistema de Gestão de Notas - Aluno\n",
            "Digite a nota do aluno (ou -1 para encerrar): 8\n",
            "Digite a nota do aluno (ou -1 para encerrar): 6\n",
            "Digite a nota do aluno (ou -1 para encerrar): 9\n",
            "Digite a nota do aluno (ou -1 para encerrar): 5\n",
            "Digite a nota do aluno (ou -1 para encerrar): -1\n",
            "\n",
            "=== RELATÓRIO FINAL ===\n",
            "Notas inseridas: [8.0, 6.0, 9.0, 5.0]\n",
            "Média das notas: 7.00\n",
            "Situação do aluno: Aprovado\n"
          ]
        }
      ],
      "source": [
        "# Função para adicionar notas\n",
        "def adicionar_notas():\n",
        "    notas = []\n",
        "    while True:\n",
        "        try:\n",
        "            nota = float(input(\"Digite a nota do aluno (ou -1 para encerrar): \"))\n",
        "            if nota == -1:\n",
        "                break\n",
        "            elif 0 <= nota <= 10:\n",
        "                notas.append(nota)\n",
        "            else:\n",
        "                print(\"Nota inválida. Digite uma nota entre 0 e 10.\")\n",
        "        except ValueError:\n",
        "            print(\"Entrada inválida. Digite um número.\")\n",
        "    return notas\n",
        "\n",
        "# Função para calcular a média das notas\n",
        "def calcular_media(notas):\n",
        "    if len(notas) == 0:\n",
        "        return 0\n",
        "    return sum(notas) / len(notas)\n",
        "\n",
        "# Função para determinar a situação do aluno\n",
        "def verificar_situacao(media):\n",
        "    if media >= 7:\n",
        "        return \"Aprovado\"\n",
        "    else:\n",
        "        return \"Reprovado\"\n",
        "\n",
        "# Função para exibir o relatório final\n",
        "def exibir_relatorio(notas, media, situacao):\n",
        "    print(\"\\n=== RELATÓRIO FINAL ===\")\n",
        "    print(f\"Notas inseridas: {notas}\")\n",
        "    print(f\"Média das notas: {media:.2f}\")\n",
        "    print(f\"Situação do aluno: {situacao}\")\n",
        "\n",
        "# Função principal que coordena o sistema\n",
        "def sistema_gestao_notas():\n",
        "    print(\"Sistema de Gestão de Notas - Aluno\")\n",
        "    notas = adicionar_notas()\n",
        "    media = calcular_media(notas)\n",
        "    situacao = verificar_situacao(media)\n",
        "    exibir_relatorio(notas, media, situacao)\n",
        "\n",
        "# Executa o sistema\n",
        "sistema_gestao_notas()\n"
      ]
    }
  ]
}